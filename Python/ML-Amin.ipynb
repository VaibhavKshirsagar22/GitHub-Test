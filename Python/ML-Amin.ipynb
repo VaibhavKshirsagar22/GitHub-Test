{
 "cells": [
  {
   "cell_type": "code",
   "execution_count": 1,
   "id": "adaac8ee-9376-4f4a-b004-c96180f1b202",
   "metadata": {},
   "outputs": [
    {
     "data": {
      "text/plain": [
       "9"
      ]
     },
     "execution_count": 1,
     "metadata": {},
     "output_type": "execute_result"
    }
   ],
   "source": [
    "5+4"
   ]
  },
  {
   "cell_type": "code",
   "execution_count": 2,
   "id": "27565a5d-3e7d-487c-9d61-fde2ddab2b86",
   "metadata": {},
   "outputs": [
    {
     "name": "stdout",
     "output_type": "stream",
     "text": [
      "[5, 3.0, 10, 200.2]\n"
     ]
    }
   ],
   "source": [
    "x = [5, 3.0, 10, 200.2]\n",
    "print(x)"
   ]
  },
  {
   "cell_type": "code",
   "execution_count": 3,
   "id": "54588b66-8780-4faf-83ce-72b8e651ba64",
   "metadata": {},
   "outputs": [
    {
     "name": "stdout",
     "output_type": "stream",
     "text": [
      "5\n"
     ]
    }
   ],
   "source": [
    "print(x[0])"
   ]
  },
  {
   "cell_type": "code",
   "execution_count": 4,
   "id": "8f87edb7-1f52-42df-8fcb-1d08c6f5a1e3",
   "metadata": {},
   "outputs": [
    {
     "name": "stdout",
     "output_type": "stream",
     "text": [
      "[34, False]\n"
     ]
    }
   ],
   "source": [
    "x = ['JupyterLab', 75, None, True, [34, False], 2, 34.56]\n",
    "print(x[4])"
   ]
  },
  {
   "cell_type": "code",
   "execution_count": 5,
   "id": "d703535d-95a4-4fce-b13e-135845c8c3d4",
   "metadata": {},
   "outputs": [
    {
     "name": "stdout",
     "output_type": "stream",
     "text": [
      "['JupyterLab', 75, None, True, 55, 2, 34.56]\n"
     ]
    }
   ],
   "source": [
    "x[4] = 55\n",
    "print(x)"
   ]
  },
  {
   "cell_type": "code",
   "execution_count": 6,
   "id": "af89a320-2d3f-4527-a33c-2aaca0511374",
   "metadata": {},
   "outputs": [
    {
     "data": {
      "text/plain": [
       "7"
      ]
     },
     "execution_count": 6,
     "metadata": {},
     "output_type": "execute_result"
    }
   ],
   "source": [
    "len(x)"
   ]
  },
  {
   "cell_type": "code",
   "execution_count": 7,
   "id": "ccfa85d2-f0cc-47bf-911b-d66d91864016",
   "metadata": {},
   "outputs": [
    {
     "name": "stdout",
     "output_type": "stream",
     "text": [
      "['JupyterLab', 75, None, True, 55, 2, 34.56, 1, 2, 3, 4]\n"
     ]
    }
   ],
   "source": [
    "y = [1, 2, 3, 4]\n",
    "print(x+y)"
   ]
  },
  {
   "cell_type": "code",
   "execution_count": 8,
   "id": "e463567f-ec7d-4e60-a6af-4b55f24c5fcb",
   "metadata": {},
   "outputs": [
    {
     "name": "stdout",
     "output_type": "stream",
     "text": [
      "[1, 2, 3, 4, 1, 2, 3, 4]\n"
     ]
    }
   ],
   "source": [
    "print(y*2)"
   ]
  },
  {
   "cell_type": "code",
   "execution_count": 9,
   "id": "f1a78795-bb5c-46b9-afd8-ca5a6a4a163b",
   "metadata": {},
   "outputs": [
    {
     "data": {
      "text/plain": [
       "[['JupyterLab', 75, None, True, 55, 2, 34.56], [1, 2, 3, 4]]"
      ]
     },
     "execution_count": 9,
     "metadata": {},
     "output_type": "execute_result"
    }
   ],
   "source": [
    "z = [x, y]\n",
    "z"
   ]
  },
  {
   "cell_type": "code",
   "execution_count": 10,
   "id": "2a6401d0-8761-4ebf-9be9-b4d4caa80947",
   "metadata": {},
   "outputs": [
    {
     "data": {
      "text/plain": [
       "1"
      ]
     },
     "execution_count": 10,
     "metadata": {},
     "output_type": "execute_result"
    }
   ],
   "source": [
    "z[1][0]"
   ]
  },
  {
   "cell_type": "code",
   "execution_count": 11,
   "id": "9458aee3-8175-4461-a7f8-be7ecc49af08",
   "metadata": {},
   "outputs": [
    {
     "data": {
      "text/plain": [
       "['JupyterLab', 75, None, True]"
      ]
     },
     "execution_count": 11,
     "metadata": {},
     "output_type": "execute_result"
    }
   ],
   "source": [
    "x[0:4]"
   ]
  },
  {
   "cell_type": "code",
   "execution_count": 12,
   "id": "031f902e-fd28-4647-a13c-0bc20e7490ef",
   "metadata": {},
   "outputs": [
    {
     "data": {
      "text/plain": [
       "['JupyterLab', 75, None, True]"
      ]
     },
     "execution_count": 12,
     "metadata": {},
     "output_type": "execute_result"
    }
   ],
   "source": [
    "x[:4]"
   ]
  },
  {
   "cell_type": "code",
   "execution_count": 13,
   "id": "3b3a5675-79ed-464c-942f-0784f8d54534",
   "metadata": {},
   "outputs": [
    {
     "data": {
      "text/plain": [
       "[True, 55, 2, 34.56]"
      ]
     },
     "execution_count": 13,
     "metadata": {},
     "output_type": "execute_result"
    }
   ],
   "source": [
    "x[3:]"
   ]
  },
  {
   "cell_type": "code",
   "execution_count": 14,
   "id": "36acac50-01b8-487c-b2a5-a917d1390ca7",
   "metadata": {},
   "outputs": [
    {
     "name": "stdout",
     "output_type": "stream",
     "text": [
      "['JupyterLab', 75, None, True, 55, 2, 34.56]\n"
     ]
    }
   ],
   "source": [
    "print(x)\n"
   ]
  },
  {
   "cell_type": "code",
   "execution_count": 15,
   "id": "eb7db455-c8c6-4ee0-99e6-df4c11cca344",
   "metadata": {},
   "outputs": [
    {
     "data": {
      "text/plain": [
       "[55, 2, 34.56]"
      ]
     },
     "execution_count": 15,
     "metadata": {},
     "output_type": "execute_result"
    }
   ],
   "source": [
    "x[-3:]"
   ]
  },
  {
   "cell_type": "code",
   "execution_count": 16,
   "id": "8996c94a-2d98-4fa3-bcfb-0605b0600c47",
   "metadata": {},
   "outputs": [
    {
     "data": {
      "text/plain": [
       "['JupyterLab', None]"
      ]
     },
     "execution_count": 16,
     "metadata": {},
     "output_type": "execute_result"
    }
   ],
   "source": [
    "x[0:4:2]"
   ]
  },
  {
   "cell_type": "code",
   "execution_count": 17,
   "id": "017239b0-128f-4026-b8e0-b53f9dd2de67",
   "metadata": {},
   "outputs": [
    {
     "data": {
      "text/plain": [
       "[55, None, 'JupyterLab']"
      ]
     },
     "execution_count": 17,
     "metadata": {},
     "output_type": "execute_result"
    }
   ],
   "source": [
    "x[4::-2]"
   ]
  },
  {
   "cell_type": "code",
   "execution_count": 18,
   "id": "a277d0a4-10d5-4a9b-9200-8a6786b0cad5",
   "metadata": {},
   "outputs": [],
   "source": [
    "x.append(-23)"
   ]
  },
  {
   "cell_type": "code",
   "execution_count": 19,
   "id": "bcd35f69-5868-4d07-8783-c19ae28c14c9",
   "metadata": {},
   "outputs": [
    {
     "name": "stdout",
     "output_type": "stream",
     "text": [
      "['JupyterLab', 75, None, True, 55, 2, 34.56, -23]\n"
     ]
    }
   ],
   "source": [
    "print(x)"
   ]
  },
  {
   "cell_type": "code",
   "execution_count": 20,
   "id": "9bf82a60-0cba-4249-a564-3a00bbc6d6b7",
   "metadata": {},
   "outputs": [
    {
     "data": {
      "text/plain": [
       "[1, 2, 3, 4]"
      ]
     },
     "execution_count": 20,
     "metadata": {},
     "output_type": "execute_result"
    }
   ],
   "source": [
    "y.sort()\n",
    "y"
   ]
  },
  {
   "cell_type": "code",
   "execution_count": 21,
   "id": "fbe447a9-cd46-44c9-99fe-0929aa9c8990",
   "metadata": {},
   "outputs": [
    {
     "data": {
      "text/plain": [
       "['JupyterLab', 10, 75, None, True, 55, 2, 34.56, -23]"
      ]
     },
     "execution_count": 21,
     "metadata": {},
     "output_type": "execute_result"
    }
   ],
   "source": [
    "x.insert(1,10)\n",
    "x"
   ]
  },
  {
   "cell_type": "code",
   "execution_count": 22,
   "id": "7e540523-2175-4f0b-8772-5fe0853a1fca",
   "metadata": {},
   "outputs": [
    {
     "data": {
      "text/plain": [
       "10"
      ]
     },
     "execution_count": 22,
     "metadata": {},
     "output_type": "execute_result"
    }
   ],
   "source": [
    "x.pop(1)"
   ]
  },
  {
   "cell_type": "code",
   "execution_count": 23,
   "id": "75418853-98b7-40bc-a88a-74d1751a7021",
   "metadata": {},
   "outputs": [
    {
     "data": {
      "text/plain": [
       "['JupyterLab', 75, None, True, 55, 2, 34.56, -23]"
      ]
     },
     "execution_count": 23,
     "metadata": {},
     "output_type": "execute_result"
    }
   ],
   "source": [
    "x"
   ]
  },
  {
   "cell_type": "code",
   "execution_count": 24,
   "id": "debe13e1-d08c-4959-a15f-f3f5aff0a822",
   "metadata": {},
   "outputs": [],
   "source": [
    "del x[1]"
   ]
  },
  {
   "cell_type": "code",
   "execution_count": 25,
   "id": "b581132e-66c5-4540-bad0-b2e8b5a9c1c6",
   "metadata": {},
   "outputs": [
    {
     "data": {
      "text/plain": [
       "['JupyterLab', None, True, 55, 2, 34.56, -23]"
      ]
     },
     "execution_count": 25,
     "metadata": {},
     "output_type": "execute_result"
    }
   ],
   "source": [
    "x"
   ]
  },
  {
   "cell_type": "code",
   "execution_count": 26,
   "id": "21310e70-3a22-4157-9881-74c363810a4e",
   "metadata": {},
   "outputs": [
    {
     "data": {
      "text/plain": [
       "-23"
      ]
     },
     "execution_count": 26,
     "metadata": {},
     "output_type": "execute_result"
    }
   ],
   "source": [
    "x.pop()"
   ]
  },
  {
   "cell_type": "code",
   "execution_count": 27,
   "id": "2f9194a3-18c3-4027-a7ee-3e6f28200b07",
   "metadata": {},
   "outputs": [
    {
     "data": {
      "text/plain": [
       "['JupyterLab', None, True, 55, 2, 34.56]"
      ]
     },
     "execution_count": 27,
     "metadata": {},
     "output_type": "execute_result"
    }
   ],
   "source": [
    "x"
   ]
  },
  {
   "cell_type": "code",
   "execution_count": 28,
   "id": "daeddca1-7486-4993-8520-3235e93e49ca",
   "metadata": {},
   "outputs": [
    {
     "data": {
      "text/plain": [
       "[1, 3, 4, 5]"
      ]
     },
     "execution_count": 28,
     "metadata": {},
     "output_type": "execute_result"
    }
   ],
   "source": [
    "list1 = [1,3,4,5]\n",
    "list2 = list1\n",
    "list2"
   ]
  },
  {
   "cell_type": "code",
   "execution_count": 29,
   "id": "f1171ea1-d1f3-4dcc-9be5-9f69cc2509ba",
   "metadata": {},
   "outputs": [
    {
     "name": "stdout",
     "output_type": "stream",
     "text": [
      "[1, 3, 4, 5, 'D']\n",
      "[1, 3, 4, 5, 'D']\n"
     ]
    }
   ],
   "source": [
    "list2.append('D')\n",
    "print(list2)\n",
    "print(list1)"
   ]
  },
  {
   "cell_type": "code",
   "execution_count": 30,
   "id": "abb8e04b-dba3-4dae-9ec3-6d7f31b463d6",
   "metadata": {},
   "outputs": [
    {
     "name": "stdout",
     "output_type": "stream",
     "text": [
      "[1, 3, 4, 5, 'D', 'E']\n",
      "[1, 3, 4, 5, 'D']\n"
     ]
    }
   ],
   "source": [
    "list3 = list1[:]\n",
    "list3.append('E')\n",
    "print(list3)\n",
    "print(list1)"
   ]
  },
  {
   "cell_type": "code",
   "execution_count": 31,
   "id": "dc6fa74b-fbe5-4b78-b24e-b87711154701",
   "metadata": {},
   "outputs": [
    {
     "name": "stdout",
     "output_type": "stream",
     "text": [
      "[1, 3, 4, 5, 'D', 'F']\n",
      "[1, 3, 4, 5, 'D']\n"
     ]
    }
   ],
   "source": [
    "list4 = list1.copy()\n",
    "list4.append('F')\n",
    "print(list4)\n",
    "print(list1)"
   ]
  },
  {
   "cell_type": "code",
   "execution_count": 32,
   "id": "d3c9ddf6-75c4-4203-81cd-029c00dda3f4",
   "metadata": {},
   "outputs": [
    {
     "name": "stdout",
     "output_type": "stream",
     "text": [
      "[1, 3, 4, 5, 'D', 'V']\n",
      "[1, 3, 4, 5, 'D']\n"
     ]
    }
   ],
   "source": [
    "list5 = list(list1)\n",
    "list5.append('V')\n",
    "print(list5)\n",
    "print(list1)"
   ]
  },
  {
   "cell_type": "code",
   "execution_count": 33,
   "id": "1ea22af5-3201-4fae-9900-3a861c2c9d06",
   "metadata": {
    "scrolled": true
   },
   "outputs": [
    {
     "name": "stdout",
     "output_type": "stream",
     "text": [
      "Help on list object:\n",
      "\n",
      "class list(object)\n",
      " |  list(iterable=(), /)\n",
      " |  \n",
      " |  Built-in mutable sequence.\n",
      " |  \n",
      " |  If no argument is given, the constructor creates a new empty list.\n",
      " |  The argument must be an iterable if specified.\n",
      " |  \n",
      " |  Methods defined here:\n",
      " |  \n",
      " |  __add__(self, value, /)\n",
      " |      Return self+value.\n",
      " |  \n",
      " |  __contains__(self, key, /)\n",
      " |      Return key in self.\n",
      " |  \n",
      " |  __delitem__(self, key, /)\n",
      " |      Delete self[key].\n",
      " |  \n",
      " |  __eq__(self, value, /)\n",
      " |      Return self==value.\n",
      " |  \n",
      " |  __ge__(self, value, /)\n",
      " |      Return self>=value.\n",
      " |  \n",
      " |  __getattribute__(self, name, /)\n",
      " |      Return getattr(self, name).\n",
      " |  \n",
      " |  __getitem__(...)\n",
      " |      x.__getitem__(y) <==> x[y]\n",
      " |  \n",
      " |  __gt__(self, value, /)\n",
      " |      Return self>value.\n",
      " |  \n",
      " |  __iadd__(self, value, /)\n",
      " |      Implement self+=value.\n",
      " |  \n",
      " |  __imul__(self, value, /)\n",
      " |      Implement self*=value.\n",
      " |  \n",
      " |  __init__(self, /, *args, **kwargs)\n",
      " |      Initialize self.  See help(type(self)) for accurate signature.\n",
      " |  \n",
      " |  __iter__(self, /)\n",
      " |      Implement iter(self).\n",
      " |  \n",
      " |  __le__(self, value, /)\n",
      " |      Return self<=value.\n",
      " |  \n",
      " |  __len__(self, /)\n",
      " |      Return len(self).\n",
      " |  \n",
      " |  __lt__(self, value, /)\n",
      " |      Return self<value.\n",
      " |  \n",
      " |  __mul__(self, value, /)\n",
      " |      Return self*value.\n",
      " |  \n",
      " |  __ne__(self, value, /)\n",
      " |      Return self!=value.\n",
      " |  \n",
      " |  __repr__(self, /)\n",
      " |      Return repr(self).\n",
      " |  \n",
      " |  __reversed__(self, /)\n",
      " |      Return a reverse iterator over the list.\n",
      " |  \n",
      " |  __rmul__(self, value, /)\n",
      " |      Return value*self.\n",
      " |  \n",
      " |  __setitem__(self, key, value, /)\n",
      " |      Set self[key] to value.\n",
      " |  \n",
      " |  __sizeof__(self, /)\n",
      " |      Return the size of the list in memory, in bytes.\n",
      " |  \n",
      " |  append(self, object, /)\n",
      " |      Append object to the end of the list.\n",
      " |  \n",
      " |  clear(self, /)\n",
      " |      Remove all items from list.\n",
      " |  \n",
      " |  copy(self, /)\n",
      " |      Return a shallow copy of the list.\n",
      " |  \n",
      " |  count(self, value, /)\n",
      " |      Return number of occurrences of value.\n",
      " |  \n",
      " |  extend(self, iterable, /)\n",
      " |      Extend list by appending elements from the iterable.\n",
      " |  \n",
      " |  index(self, value, start=0, stop=9223372036854775807, /)\n",
      " |      Return first index of value.\n",
      " |      \n",
      " |      Raises ValueError if the value is not present.\n",
      " |  \n",
      " |  insert(self, index, object, /)\n",
      " |      Insert object before index.\n",
      " |  \n",
      " |  pop(self, index=-1, /)\n",
      " |      Remove and return item at index (default last).\n",
      " |      \n",
      " |      Raises IndexError if list is empty or index is out of range.\n",
      " |  \n",
      " |  remove(self, value, /)\n",
      " |      Remove first occurrence of value.\n",
      " |      \n",
      " |      Raises ValueError if the value is not present.\n",
      " |  \n",
      " |  reverse(self, /)\n",
      " |      Reverse *IN PLACE*.\n",
      " |  \n",
      " |  sort(self, /, *, key=None, reverse=False)\n",
      " |      Sort the list in ascending order and return None.\n",
      " |      \n",
      " |      The sort is in-place (i.e. the list itself is modified) and stable (i.e. the\n",
      " |      order of two equal elements is maintained).\n",
      " |      \n",
      " |      If a key function is given, apply it once to each list item and sort them,\n",
      " |      ascending or descending, according to their function values.\n",
      " |      \n",
      " |      The reverse flag can be set to sort in descending order.\n",
      " |  \n",
      " |  ----------------------------------------------------------------------\n",
      " |  Class methods defined here:\n",
      " |  \n",
      " |  __class_getitem__(...) from builtins.type\n",
      " |      See PEP 585\n",
      " |  \n",
      " |  ----------------------------------------------------------------------\n",
      " |  Static methods defined here:\n",
      " |  \n",
      " |  __new__(*args, **kwargs) from builtins.type\n",
      " |      Create and return a new object.  See help(type) for accurate signature.\n",
      " |  \n",
      " |  ----------------------------------------------------------------------\n",
      " |  Data and other attributes defined here:\n",
      " |  \n",
      " |  __hash__ = None\n",
      "\n"
     ]
    }
   ],
   "source": [
    "help(list1)"
   ]
  },
  {
   "cell_type": "code",
   "execution_count": 34,
   "id": "6163ad08-ca28-4927-9af9-3a9cdbff6a53",
   "metadata": {},
   "outputs": [
    {
     "data": {
      "text/plain": [
       "('machine', 'learning', 'with', 'python', '1.0.0')"
      ]
     },
     "execution_count": 34,
     "metadata": {},
     "output_type": "execute_result"
    }
   ],
   "source": [
    "# Tuples\n",
    "tuple1 = ('machine', 'learning', 'with', 'python', '1.0.0')\n",
    "tuple1"
   ]
  },
  {
   "cell_type": "code",
   "execution_count": 35,
   "id": "3f0e9ca3-fefb-4dab-beee-5359dc922852",
   "metadata": {},
   "outputs": [
    {
     "data": {
      "text/plain": [
       "'machine'"
      ]
     },
     "execution_count": 35,
     "metadata": {},
     "output_type": "execute_result"
    }
   ],
   "source": [
    "tuple1[0]"
   ]
  },
  {
   "cell_type": "code",
   "execution_count": 36,
   "id": "72ff9fd3-b432-40e5-872d-88653f986833",
   "metadata": {},
   "outputs": [
    {
     "data": {
      "text/plain": [
       "('machine', 'with', '1.0.0')"
      ]
     },
     "execution_count": 36,
     "metadata": {},
     "output_type": "execute_result"
    }
   ],
   "source": [
    "tuple1[::2]"
   ]
  },
  {
   "cell_type": "code",
   "execution_count": 37,
   "id": "36ef4ba1-9776-4adb-bf8b-d5a0b09523e8",
   "metadata": {},
   "outputs": [
    {
     "data": {
      "text/plain": [
       "5"
      ]
     },
     "execution_count": 37,
     "metadata": {},
     "output_type": "execute_result"
    }
   ],
   "source": [
    "len(tuple1)"
   ]
  },
  {
   "cell_type": "code",
   "execution_count": 38,
   "id": "c4130d66-1050-49d4-9ce5-cf31d970603f",
   "metadata": {},
   "outputs": [
    {
     "ename": "TypeError",
     "evalue": "'tuple' object does not support item assignment",
     "output_type": "error",
     "traceback": [
      "\u001b[1;31m---------------------------------------------------------------------------\u001b[0m",
      "\u001b[1;31mTypeError\u001b[0m                                 Traceback (most recent call last)",
      "Cell \u001b[1;32mIn[38], line 1\u001b[0m\n\u001b[1;32m----> 1\u001b[0m \u001b[43mtuple1\u001b[49m\u001b[43m[\u001b[49m\u001b[38;5;241;43m0\u001b[39;49m\u001b[43m]\u001b[49m \u001b[38;5;241m=\u001b[39m \u001b[38;5;124m'\u001b[39m\u001b[38;5;124mjupyter\u001b[39m\u001b[38;5;124m'\u001b[39m\n",
      "\u001b[1;31mTypeError\u001b[0m: 'tuple' object does not support item assignment"
     ]
    }
   ],
   "source": [
    "tuple1[0] = 'jupyter'"
   ]
  },
  {
   "cell_type": "code",
   "execution_count": null,
   "id": "897fc0d0-8e98-4665-83ca-2318edd53cab",
   "metadata": {},
   "outputs": [],
   "source": [
    "tuple1 = ('Jupyter', 'Notebook')\n",
    "tuple1"
   ]
  },
  {
   "cell_type": "code",
   "execution_count": null,
   "id": "014d507a-3ccd-435e-b676-b4dafc050826",
   "metadata": {},
   "outputs": [],
   "source": [
    "tuple2 = tuple1 + ('Good', 'Morning')"
   ]
  },
  {
   "cell_type": "code",
   "execution_count": null,
   "id": "891308b9-32db-4e94-98d2-34979d91fd17",
   "metadata": {},
   "outputs": [],
   "source": [
    "tuple2"
   ]
  },
  {
   "cell_type": "code",
   "execution_count": null,
   "id": "6c002333-961a-47ad-8f75-c2a0f76706c4",
   "metadata": {},
   "outputs": [],
   "source": [
    "from math import modf"
   ]
  },
  {
   "cell_type": "code",
   "execution_count": null,
   "id": "ae48931a-5036-484e-9192-62a4e6d7d875",
   "metadata": {},
   "outputs": [],
   "source": [
    "a = 56.5\n",
    "modf(a)"
   ]
  },
  {
   "cell_type": "code",
   "execution_count": null,
   "id": "6b3d1bf2-9cec-49ec-8611-0c0a0e0fcc23",
   "metadata": {},
   "outputs": [],
   "source": [
    "x, y = modf(a)\n",
    "print(\"x = \" + str(x) + \"\\n\" + \"y = \" + str(y))"
   ]
  },
  {
   "cell_type": "code",
   "execution_count": null,
   "id": "66cb98cf-5958-48a7-8df1-182a11415e4a",
   "metadata": {},
   "outputs": [],
   "source": [
    "tuple1"
   ]
  },
  {
   "cell_type": "code",
   "execution_count": null,
   "id": "e4f8d020-a017-4818-b1a9-25af8179a738",
   "metadata": {},
   "outputs": [],
   "source": [
    "tuple1 = 'machine', 'learning', 'with', 'python', '1.0.0'\n",
    "tuple1"
   ]
  },
  {
   "cell_type": "code",
   "execution_count": null,
   "id": "cded872d-64bd-4f4d-b273-91b70bbdb621",
   "metadata": {},
   "outputs": [],
   "source": [
    "x,y,z,v,w = tuple1\n",
    "print(x,y,z,v,w)"
   ]
  },
  {
   "cell_type": "code",
   "execution_count": null,
   "id": "d33a80c2-29e3-4d31-ad9d-3377a6943009",
   "metadata": {},
   "outputs": [],
   "source": [
    "tuple3 = 'Machine'"
   ]
  },
  {
   "cell_type": "code",
   "execution_count": null,
   "id": "2f1a6347-18c6-474c-a546-4755a2e56ebd",
   "metadata": {},
   "outputs": [],
   "source": [
    "tuple3"
   ]
  },
  {
   "cell_type": "code",
   "execution_count": null,
   "id": "4f045ba4-ebbb-43d7-b759-afc26df7dd57",
   "metadata": {},
   "outputs": [],
   "source": [
    "type(tuple3)"
   ]
  },
  {
   "cell_type": "code",
   "execution_count": null,
   "id": "d9e6eccc-e159-48b8-8e9d-fc46dc1c23b2",
   "metadata": {},
   "outputs": [],
   "source": [
    "tuple3 = 'machine',"
   ]
  },
  {
   "cell_type": "code",
   "execution_count": null,
   "id": "89459982-af03-47d7-9aee-974dcffc70db",
   "metadata": {},
   "outputs": [],
   "source": [
    "type(tuple3)"
   ]
  },
  {
   "cell_type": "code",
   "execution_count": null,
   "id": "69337ef4-a7fa-4745-b8ce-a4780ee44b54",
   "metadata": {},
   "outputs": [],
   "source": [
    "dict1 = {1:'value for key 1','key for value 2':2, (1,0):True, False:[100,50], 2.5:'Hello'}\n",
    "dict1"
   ]
  },
  {
   "cell_type": "code",
   "execution_count": null,
   "id": "15f0ac1a-9692-4c5a-b633-a6d9ab5c5aae",
   "metadata": {},
   "outputs": [],
   "source": [
    "dict1['key for value 2'] = 30\n",
    "dict1"
   ]
  },
  {
   "cell_type": "code",
   "execution_count": null,
   "id": "d5df86d6-a07d-4eb6-9063-4893d9e503d1",
   "metadata": {},
   "outputs": [],
   "source": [
    "dict1[10] = 'Bye'\n",
    "dict1"
   ]
  },
  {
   "cell_type": "code",
   "execution_count": null,
   "id": "068af3ba-a0fd-4a1f-b709-cae49ab8d677",
   "metadata": {},
   "outputs": [],
   "source": [
    "del dict1['key for value 2']\n",
    "dict1"
   ]
  },
  {
   "cell_type": "code",
   "execution_count": null,
   "id": "8d088f47-fd9d-43fa-8388-a0b68af9663d",
   "metadata": {},
   "outputs": [],
   "source": [
    "'Hello' in dict1.values()"
   ]
  },
  {
   "cell_type": "code",
   "execution_count": null,
   "id": "229f2f0b-694e-4e16-945c-f0384933879b",
   "metadata": {},
   "outputs": [],
   "source": [
    "dict2 = dict([('Police', 102), ('Fire', 101), ('Gas', 104)])\n",
    "dict2"
   ]
  },
  {
   "cell_type": "code",
   "execution_count": null,
   "id": "684cde84-26e6-41a6-8d87-70ab0080371e",
   "metadata": {},
   "outputs": [],
   "source": [
    "dict3 = dict(country = 'USA', phone_numbers = dict2, population=18.7)\n",
    "dict3"
   ]
  },
  {
   "cell_type": "code",
   "execution_count": null,
   "id": "6c67d565-7a81-4db7-8a14-b18e635e32d9",
   "metadata": {},
   "outputs": [],
   "source": [
    "set1 = {'a', 'b', 'c', 'd', 'e'}\n",
    "set1"
   ]
  },
  {
   "cell_type": "code",
   "execution_count": null,
   "id": "1821699d-170d-46aa-bc2f-c8a9f8cf8550",
   "metadata": {},
   "outputs": [],
   "source": [
    "set2 = {'b', 'b', 'c', 'f', 'g'}\n",
    "set2"
   ]
  },
  {
   "cell_type": "code",
   "execution_count": null,
   "id": "f9f923c4-c757-4219-b795-eb26dac33246",
   "metadata": {},
   "outputs": [],
   "source": [
    "set1 | set2"
   ]
  },
  {
   "cell_type": "code",
   "execution_count": null,
   "id": "10d9f5e0-48cf-4253-8d4d-9a6b42a7fe27",
   "metadata": {},
   "outputs": [],
   "source": [
    "set1 & set2"
   ]
  },
  {
   "cell_type": "code",
   "execution_count": null,
   "id": "51038b3f-7ab3-4cec-bb60-1b2496023198",
   "metadata": {},
   "outputs": [],
   "source": [
    "set1 - set2"
   ]
  },
  {
   "cell_type": "code",
   "execution_count": null,
   "id": "d5eaee8b-c346-479b-8f77-f8dd687e9d8f",
   "metadata": {},
   "outputs": [],
   "source": [
    "set1 ^ set2"
   ]
  },
  {
   "cell_type": "code",
   "execution_count": null,
   "id": "5221b294-7001-42bf-9dc1-ffb36fd774fe",
   "metadata": {},
   "outputs": [],
   "source": [
    "x, *y, v, w = ('machine', 'learning', 'with', 'python' , '1.0.0')\n",
    "print(x,*y,v,w)"
   ]
  },
  {
   "cell_type": "code",
   "execution_count": null,
   "id": "01398d00-9307-4dcb-8cd0-e6a2958c32dd",
   "metadata": {},
   "outputs": [],
   "source": [
    "mystring = \"Hello I am learning Python\"\n",
    "for element in mystring:\n",
    "    print(element, end=\"\")"
   ]
  },
  {
   "cell_type": "code",
   "execution_count": null,
   "id": "28aa464a-1aa6-46bc-8586-728d1e99aa85",
   "metadata": {},
   "outputs": [],
   "source": [
    "mydict = {1:\"machine\", 2:\"learning\", 3:\"with python\"}\n",
    "for key in mydict:\n",
    "    val = mydict[key]\n",
    "    print('Key = ',key)\n",
    "    print('Value = ',val)\n",
    "    print(\"\")"
   ]
  },
  {
   "cell_type": "code",
   "execution_count": null,
   "id": "3220d51d-07e1-4656-8c51-6b57af510da6",
   "metadata": {},
   "outputs": [],
   "source": [
    "for key,val in mydict.items():\n",
    "    print('key = ',key)\n",
    "    print('value = ',val)\n",
    "    print(\"\")"
   ]
  },
  {
   "cell_type": "code",
   "execution_count": null,
   "id": "77a7c956-36d6-4f3a-b635-0de4b81689ca",
   "metadata": {},
   "outputs": [],
   "source": [
    "for i in range(5):\n",
    "    print('i= ',i)"
   ]
  },
  {
   "cell_type": "code",
   "execution_count": null,
   "id": "7604a07a-b952-4b90-bda3-26015044f5e3",
   "metadata": {},
   "outputs": [],
   "source": [
    "for i in range(3,8):\n",
    "    print('i = ',i)"
   ]
  },
  {
   "cell_type": "code",
   "execution_count": null,
   "id": "867b1a3f-99f5-4ffe-898e-3e89df46ccdb",
   "metadata": {},
   "outputs": [],
   "source": [
    "for i in range(3,8,2):\n",
    "    print('i = ',i)"
   ]
  },
  {
   "cell_type": "code",
   "execution_count": null,
   "id": "46f23609-742a-440e-a280-61337f5a3323",
   "metadata": {},
   "outputs": [],
   "source": [
    "mylist = [\"machine\", \"learning\", \"with\", \"python\", \"1.0.0\"]"
   ]
  },
  {
   "cell_type": "code",
   "execution_count": null,
   "id": "803d33f6-5d2c-4880-b760-e41c49525768",
   "metadata": {},
   "outputs": [],
   "source": [
    "for index,val in enumerate(mylist,start=1):\n",
    "    print(index, val)"
   ]
  },
  {
   "cell_type": "code",
   "execution_count": null,
   "id": "351fc6f0-96d7-4d9c-82bb-620e6df49b25",
   "metadata": {},
   "outputs": [],
   "source": [
    "listA = [1, 2, 3, 4]\n",
    "listB = ['a', 'b', 'c', 'd']\n",
    "for item in zip(listA, listB):\n",
    "    print(item)"
   ]
  },
  {
   "cell_type": "code",
   "execution_count": null,
   "id": "f616539d-d450-43a6-a4e6-d15b4a664880",
   "metadata": {},
   "outputs": [],
   "source": [
    "names = [\"John\", \"James\", \"Jane\"]\n",
    "numbers = [979, 797, 897]\n",
    "newdict = dict(zip(names, numbers))\n",
    "newdict"
   ]
  },
  {
   "cell_type": "code",
   "execution_count": null,
   "id": "70cee9ab-1032-430d-8db0-610b9ffcfc17",
   "metadata": {},
   "outputs": [],
   "source": [
    "list_of_odd_square = [item**2 for item in range(1,21) if item%2 !=0]\n",
    "list_of_odd_square"
   ]
  },
  {
   "cell_type": "code",
   "execution_count": null,
   "id": "f93b0e2f-793b-404f-a0a5-9f9aa9492895",
   "metadata": {},
   "outputs": [],
   "source": [
    "list_of_non_equal_tuples = [(x, y) for x in range(3) for y in range(3) if x!=y]\n",
    "list_of_non_equal_tuples"
   ]
  },
  {
   "cell_type": "code",
   "execution_count": null,
   "id": "0b7dfd92-5519-4c53-9a37-c886c70c0009",
   "metadata": {},
   "outputs": [],
   "source": [
    "def string_func(string):\n",
    "    return len(string), string.upper(), string.title()\n",
    "\n",
    "x, y, z = string_func('coolFunctions')\n",
    "print(x, y, z)"
   ]
  },
  {
   "cell_type": "code",
   "execution_count": null,
   "id": "7f827235-6af7-4a5e-84fb-05f9dbcdb939",
   "metadata": {},
   "outputs": [],
   "source": [
    "def list_mod(addin):\n",
    "    addin.insert(1, 'AB')\n",
    "\n",
    "another_list = [100, 'ML', 200]\n",
    "list_mod(another_list)\n",
    "another_list"
   ]
  },
  {
   "cell_type": "code",
   "execution_count": null,
   "id": "458ed41d-4e46-45d6-a2fd-391a4d251975",
   "metadata": {},
   "outputs": [],
   "source": [
    "def grocery_to_do(money, *grocery_items):\n",
    "    firstletter = ''\n",
    "    for item in grocery_items:\n",
    "        firstletter += item[0].title()\n",
    "    print('you have {} rupees'.format(money))\n",
    "    print('Your acronym is', firstletter)\n",
    "\n",
    "grocery_to_do(40, 'milk', 'rice',  'ghee')"
   ]
  },
  {
   "cell_type": "markdown",
   "id": "cce8fb99-2c60-460f-b796-099a5b46c1e7",
   "metadata": {},
   "source": [
    "## Iterators & Generators"
   ]
  },
  {
   "cell_type": "code",
   "execution_count": 39,
   "id": "4f82c9e2-002e-481b-b111-929eb99c1a9f",
   "metadata": {},
   "outputs": [
    {
     "data": {
      "text/plain": [
       "<list_iterator at 0x26330a6fd00>"
      ]
     },
     "execution_count": 39,
     "metadata": {},
     "output_type": "execute_result"
    }
   ],
   "source": [
    "list_a = ['a', 'b', 'c', 'd']\n",
    "iter_a = iter(list_a)\n",
    "iter_a"
   ]
  },
  {
   "cell_type": "code",
   "execution_count": 40,
   "id": "e1b656e7-a3cb-4439-b0ec-5bb17f6b6cfc",
   "metadata": {},
   "outputs": [
    {
     "data": {
      "text/plain": [
       "'a'"
      ]
     },
     "execution_count": 40,
     "metadata": {},
     "output_type": "execute_result"
    }
   ],
   "source": [
    "next(iter_a)"
   ]
  },
  {
   "cell_type": "code",
   "execution_count": 41,
   "id": "39366501-281a-43c6-a47c-e79e5703b05b",
   "metadata": {},
   "outputs": [
    {
     "data": {
      "text/plain": [
       "'b'"
      ]
     },
     "execution_count": 41,
     "metadata": {},
     "output_type": "execute_result"
    }
   ],
   "source": [
    "iter_a.__next__()"
   ]
  },
  {
   "cell_type": "code",
   "execution_count": 42,
   "id": "7385d864-18f3-4e56-8e48-7d02ce3f4767",
   "metadata": {},
   "outputs": [
    {
     "data": {
      "text/plain": [
       "'c'"
      ]
     },
     "execution_count": 42,
     "metadata": {},
     "output_type": "execute_result"
    }
   ],
   "source": [
    "next(iter_a)"
   ]
  },
  {
   "cell_type": "code",
   "execution_count": 43,
   "id": "8d09b886-2ea6-4ef7-842d-1f2146238677",
   "metadata": {},
   "outputs": [
    {
     "data": {
      "text/plain": [
       "'d'"
      ]
     },
     "execution_count": 43,
     "metadata": {},
     "output_type": "execute_result"
    }
   ],
   "source": [
    "next(iter_a)"
   ]
  },
  {
   "cell_type": "code",
   "execution_count": 44,
   "id": "1b9ee468-33da-445a-b1cb-e505304ed002",
   "metadata": {},
   "outputs": [
    {
     "name": "stdout",
     "output_type": "stream",
     "text": [
      "1 3 6 10 15 21 28 36 45 55 66 78 91 105 120 136 153 171 190 210\n"
     ]
    }
   ],
   "source": [
    "n = 20\n",
    "gen1 = (sum(range(1, num+1)) for num in range(1, n+1))\n",
    "print(*gen1)"
   ]
  },
  {
   "cell_type": "code",
   "execution_count": 45,
   "id": "758006b7-7312-4fa2-bf83-ff516e5cf4bc",
   "metadata": {},
   "outputs": [
    {
     "data": {
      "text/plain": [
       "<module 'numpy' from 'C:\\\\Users\\\\saumi\\\\anaconda3\\\\envs\\\\myenv\\\\lib\\\\site-packages\\\\numpy\\\\__init__.py'>"
      ]
     },
     "execution_count": 45,
     "metadata": {},
     "output_type": "execute_result"
    }
   ],
   "source": [
    "import numpy as np\n",
    "np"
   ]
  },
  {
   "cell_type": "code",
   "execution_count": 46,
   "id": "4ecd2ddb-6a59-4997-ac3c-e28c704e2148",
   "metadata": {},
   "outputs": [
    {
     "data": {
      "text/plain": [
       "[[1, 2, 3], [4, 5, 6]]"
      ]
     },
     "execution_count": 46,
     "metadata": {},
     "output_type": "execute_result"
    }
   ],
   "source": [
    "list1 = [[1,2,3],[4,5,6]]\n",
    "list1"
   ]
  },
  {
   "cell_type": "code",
   "execution_count": 47,
   "id": "6d4daa08-d77f-41ee-adeb-8a1bc4fa7250",
   "metadata": {},
   "outputs": [
    {
     "data": {
      "text/plain": [
       "array([[1, 2, 3],\n",
       "       [4, 5, 6]])"
      ]
     },
     "execution_count": 47,
     "metadata": {},
     "output_type": "execute_result"
    }
   ],
   "source": [
    "\n",
    "a1 = np.array(list1)\n",
    "a1"
   ]
  },
  {
   "cell_type": "code",
   "execution_count": 48,
   "id": "2c3be281-fe77-4b44-b64b-1ae6a537b362",
   "metadata": {},
   "outputs": [
    {
     "data": {
      "text/plain": [
       "numpy.ndarray"
      ]
     },
     "execution_count": 48,
     "metadata": {},
     "output_type": "execute_result"
    }
   ],
   "source": [
    "type(a1)"
   ]
  },
  {
   "cell_type": "code",
   "execution_count": 49,
   "id": "52cdde2e-053c-414b-bee9-8d0719ddccd4",
   "metadata": {},
   "outputs": [
    {
     "data": {
      "text/plain": [
       "[[1, 2, 3.7], [4, 5, 6]]"
      ]
     },
     "execution_count": 49,
     "metadata": {},
     "output_type": "execute_result"
    }
   ],
   "source": [
    "list2 = [[1,2,3.7],[4,5,6]]\n",
    "list2"
   ]
  },
  {
   "cell_type": "code",
   "execution_count": 50,
   "id": "328d5697-b623-41a4-96a0-105af55da431",
   "metadata": {},
   "outputs": [
    {
     "data": {
      "text/plain": [
       "array([[1. , 2. , 3.7],\n",
       "       [4. , 5. , 6. ]])"
      ]
     },
     "execution_count": 50,
     "metadata": {},
     "output_type": "execute_result"
    }
   ],
   "source": [
    "a2 = np.array(list2)\n",
    "a2"
   ]
  },
  {
   "cell_type": "code",
   "execution_count": 51,
   "id": "b326c151-9ad8-40dd-b7f0-8b63b3d2609e",
   "metadata": {},
   "outputs": [
    {
     "data": {
      "text/plain": [
       "dtype('float64')"
      ]
     },
     "execution_count": 51,
     "metadata": {},
     "output_type": "execute_result"
    }
   ],
   "source": [
    "a2.dtype"
   ]
  },
  {
   "cell_type": "code",
   "execution_count": 52,
   "id": "72460e8e-d112-4a91-9fa7-7212c87e3b4c",
   "metadata": {},
   "outputs": [
    {
     "data": {
      "text/plain": [
       "array([[1. , 2. , 3.7],\n",
       "       [4. , 5. , 6. ]], dtype=float32)"
      ]
     },
     "execution_count": 52,
     "metadata": {},
     "output_type": "execute_result"
    }
   ],
   "source": [
    "a3 = np.array(list2, dtype = 'float32')\n",
    "a3"
   ]
  },
  {
   "cell_type": "code",
   "execution_count": 53,
   "id": "bab66025-398b-4498-b38e-ba055718edae",
   "metadata": {},
   "outputs": [
    {
     "data": {
      "text/plain": [
       "array([[1, 2, 3],\n",
       "       [4, 5, 6]])"
      ]
     },
     "execution_count": 53,
     "metadata": {},
     "output_type": "execute_result"
    }
   ],
   "source": [
    "a4 = a3.astype(int)\n",
    "a4"
   ]
  },
  {
   "cell_type": "code",
   "execution_count": 54,
   "id": "5c73e8e9-5725-4d78-90c3-5b6a4ebd2b72",
   "metadata": {},
   "outputs": [
    {
     "data": {
      "text/plain": [
       "6"
      ]
     },
     "execution_count": 54,
     "metadata": {},
     "output_type": "execute_result"
    }
   ],
   "source": [
    "a4.size"
   ]
  },
  {
   "cell_type": "code",
   "execution_count": 55,
   "id": "aad41652-ff59-49bd-8c34-b71826a6240c",
   "metadata": {},
   "outputs": [
    {
     "data": {
      "text/plain": [
       "2"
      ]
     },
     "execution_count": 55,
     "metadata": {},
     "output_type": "execute_result"
    }
   ],
   "source": [
    "a4.ndim"
   ]
  },
  {
   "cell_type": "code",
   "execution_count": 56,
   "id": "b741c091-db3e-4afc-acde-12ef253becde",
   "metadata": {},
   "outputs": [
    {
     "data": {
      "text/plain": [
       "(2, 3)"
      ]
     },
     "execution_count": 56,
     "metadata": {},
     "output_type": "execute_result"
    }
   ],
   "source": [
    "a4.shape"
   ]
  },
  {
   "cell_type": "code",
   "execution_count": 57,
   "id": "60f834fd-4f76-42bd-bb7d-99beb326ec07",
   "metadata": {},
   "outputs": [
    {
     "data": {
      "text/plain": [
       "(5,)"
      ]
     },
     "execution_count": 57,
     "metadata": {},
     "output_type": "execute_result"
    }
   ],
   "source": [
    "a5 = np.arange(5)\n",
    "a5.shape"
   ]
  },
  {
   "cell_type": "code",
   "execution_count": 58,
   "id": "ad173d7e-cec6-4df0-9833-133bc15251ac",
   "metadata": {},
   "outputs": [
    {
     "name": "stdout",
     "output_type": "stream",
     "text": [
      "(1, 5)\n"
     ]
    },
    {
     "data": {
      "text/plain": [
       "array([[0, 1, 2, 3, 4]])"
      ]
     },
     "execution_count": 58,
     "metadata": {},
     "output_type": "execute_result"
    }
   ],
   "source": [
    "a6 = np.array([[0,1,2,3,4]])\n",
    "print(a6.shape)\n",
    "a6"
   ]
  },
  {
   "cell_type": "code",
   "execution_count": 59,
   "id": "8d6714ed-8d68-4672-ad86-48e84c7b537f",
   "metadata": {},
   "outputs": [
    {
     "data": {
      "text/plain": [
       "array([0., 0., 0., 0., 0.])"
      ]
     },
     "execution_count": 59,
     "metadata": {},
     "output_type": "execute_result"
    }
   ],
   "source": [
    "a = np.zeros(5)\n",
    "a"
   ]
  },
  {
   "cell_type": "code",
   "execution_count": 60,
   "id": "38d01029-d0f5-4620-b986-2f1d012beaf9",
   "metadata": {},
   "outputs": [],
   "source": [
    "a = np.full((2,3), 8.09)"
   ]
  },
  {
   "cell_type": "code",
   "execution_count": 61,
   "id": "6d595ffd-9e56-4318-8039-863943b41573",
   "metadata": {},
   "outputs": [
    {
     "data": {
      "text/plain": [
       "array([[8.09, 8.09, 8.09],\n",
       "       [8.09, 8.09, 8.09]])"
      ]
     },
     "execution_count": 61,
     "metadata": {},
     "output_type": "execute_result"
    }
   ],
   "source": [
    "a"
   ]
  },
  {
   "cell_type": "code",
   "execution_count": 62,
   "id": "62a2b9b0-04df-48f2-a916-25481b68450a",
   "metadata": {},
   "outputs": [],
   "source": [
    "a = np.eye(5)"
   ]
  },
  {
   "cell_type": "code",
   "execution_count": 63,
   "id": "3cfa3f90-bd53-4451-8494-f0d3dcd2e782",
   "metadata": {},
   "outputs": [
    {
     "data": {
      "text/plain": [
       "array([[1., 0., 0., 0., 0.],\n",
       "       [0., 1., 0., 0., 0.],\n",
       "       [0., 0., 1., 0., 0.],\n",
       "       [0., 0., 0., 1., 0.],\n",
       "       [0., 0., 0., 0., 1.]])"
      ]
     },
     "execution_count": 63,
     "metadata": {},
     "output_type": "execute_result"
    }
   ],
   "source": [
    "a"
   ]
  },
  {
   "cell_type": "code",
   "execution_count": 64,
   "id": "78d075f3-51f6-4486-8458-81e662902571",
   "metadata": {},
   "outputs": [
    {
     "data": {
      "text/plain": [
       "array([3, 4, 5, 6, 7])"
      ]
     },
     "execution_count": 64,
     "metadata": {},
     "output_type": "execute_result"
    }
   ],
   "source": [
    "a = np.arange(3,8)\n",
    "a"
   ]
  },
  {
   "cell_type": "code",
   "execution_count": 65,
   "id": "7fafe8d1-0407-4c38-860a-bf44d7048bbe",
   "metadata": {},
   "outputs": [
    {
     "data": {
      "text/plain": [
       "array([[ 0.50945345, -0.21845036, -0.63091615,  1.36753359],\n",
       "       [ 0.22341463, -1.08017946, -0.22182596, -1.05486709],\n",
       "       [-0.47150176, -1.32242228, -0.59882116, -1.61668407]])"
      ]
     },
     "execution_count": 65,
     "metadata": {},
     "output_type": "execute_result"
    }
   ],
   "source": [
    "s = np.random.normal(0, 1, size=(3,4))\n",
    "s"
   ]
  },
  {
   "cell_type": "code",
   "execution_count": 66,
   "id": "11d4a033-0f29-4ffd-ab68-2c50f4f2864a",
   "metadata": {},
   "outputs": [
    {
     "data": {
      "text/plain": [
       "array([[ 0,  1,  2],\n",
       "       [ 3,  4,  5],\n",
       "       [ 6,  7,  8],\n",
       "       [ 9, 10, 11]])"
      ]
     },
     "execution_count": 66,
     "metadata": {},
     "output_type": "execute_result"
    }
   ],
   "source": [
    "a = np.array([[0,1,2],[3,4,5],[6,7,8],[9,10,11]])\n",
    "a"
   ]
  },
  {
   "cell_type": "code",
   "execution_count": 67,
   "id": "e8d66119-3f7d-44c4-bc83-f2d1bfe89942",
   "metadata": {},
   "outputs": [
    {
     "data": {
      "text/plain": [
       "array([[ 9, 11],\n",
       "       [ 6,  8]])"
      ]
     },
     "execution_count": 67,
     "metadata": {},
     "output_type": "execute_result"
    }
   ],
   "source": [
    "a[:-3:-1,::2]"
   ]
  },
  {
   "cell_type": "code",
   "execution_count": 68,
   "id": "cc8b299d-9e88-41e8-b3af-5fb55b0e1862",
   "metadata": {},
   "outputs": [
    {
     "data": {
      "text/plain": [
       "array([[ 9, 11],\n",
       "       [ 6,  8]])"
      ]
     },
     "execution_count": 68,
     "metadata": {},
     "output_type": "execute_result"
    }
   ],
   "source": [
    "b = a[:-3:-1,::2]\n",
    "b"
   ]
  },
  {
   "cell_type": "code",
   "execution_count": 69,
   "id": "056dadca-8a9b-4b09-b782-1c26ad83a483",
   "metadata": {},
   "outputs": [
    {
     "data": {
      "text/plain": [
       "array([[ 0,  1,  2],\n",
       "       [ 3,  4,  5],\n",
       "       [ 6,  7,  8],\n",
       "       [ 9, 10, 21]])"
      ]
     },
     "execution_count": 69,
     "metadata": {},
     "output_type": "execute_result"
    }
   ],
   "source": [
    "b[0,1]=21\n",
    "a"
   ]
  },
  {
   "cell_type": "code",
   "execution_count": 70,
   "id": "c0d0f3ee-84ed-46cc-bdad-eba9407f8f59",
   "metadata": {},
   "outputs": [
    {
     "data": {
      "text/plain": [
       "array([[ 9, 21],\n",
       "       [ 6,  8]])"
      ]
     },
     "execution_count": 70,
     "metadata": {},
     "output_type": "execute_result"
    }
   ],
   "source": [
    "b = a[:-3:-1,::2].copy()\n",
    "b"
   ]
  },
  {
   "cell_type": "code",
   "execution_count": 71,
   "id": "4861122e-4ef4-4729-b2d9-ee644ec785f3",
   "metadata": {},
   "outputs": [
    {
     "data": {
      "text/plain": [
       "array([[ 0,  1,  2],\n",
       "       [ 3,  4,  5],\n",
       "       [ 6,  7,  8],\n",
       "       [ 9, 10, 21]])"
      ]
     },
     "execution_count": 71,
     "metadata": {},
     "output_type": "execute_result"
    }
   ],
   "source": [
    "b[1,1]=19\n",
    "a"
   ]
  },
  {
   "cell_type": "code",
   "execution_count": 72,
   "id": "0b05ccd2-0f41-4fdc-a522-36755c31e50b",
   "metadata": {},
   "outputs": [
    {
     "data": {
      "text/plain": [
       "array([[ 9, 21],\n",
       "       [ 6,  8]])"
      ]
     },
     "execution_count": 72,
     "metadata": {},
     "output_type": "execute_result"
    }
   ],
   "source": [
    "b = np.array(a[:-3:-1,::2])\n",
    "b"
   ]
  },
  {
   "cell_type": "code",
   "execution_count": 73,
   "id": "15f7d607-f8b0-41ea-a0ee-bd340124509d",
   "metadata": {},
   "outputs": [
    {
     "name": "stdout",
     "output_type": "stream",
     "text": [
      "c = [10 11 12 13 14 15 16 17 18 19 20 21 22 23 24 25 26 27 28 29]\n",
      "idx = [19 17 15 13 11]\n",
      "c[idx] = [29 27 25 23 21]\n"
     ]
    }
   ],
   "source": [
    "c = np.arange(10,30)\n",
    "idx = np.arange(19,10,-2)\n",
    "print('c = ' +str(c) + '\\n' + 'idx = ' + str(idx) + '\\n' + 'c[idx] = ' + str(c[idx]))"
   ]
  },
  {
   "cell_type": "code",
   "execution_count": 74,
   "id": "7f9a1af2-027a-4482-91ff-d083b55648f7",
   "metadata": {},
   "outputs": [
    {
     "data": {
      "text/plain": [
       "array([[ 0,  1,  2,  3,  4],\n",
       "       [ 5,  6,  7,  8,  9],\n",
       "       [10, 11, 12, 13, 14],\n",
       "       [15, 16, 17, 18, 19]])"
      ]
     },
     "execution_count": 74,
     "metadata": {},
     "output_type": "execute_result"
    }
   ],
   "source": [
    "a = np.arange(20).reshape(4,5)\n",
    "a"
   ]
  },
  {
   "cell_type": "code",
   "execution_count": 75,
   "id": "4edbd09b-08a8-4d97-bc36-9cea46a80c0d",
   "metadata": {},
   "outputs": [
    {
     "data": {
      "text/plain": [
       "array([[ 0,  1,  2,  3,  4,  5,  6,  7,  8,  9],\n",
       "       [10, 11, 12, 13, 14, 15, 16, 17, 18, 19]])"
      ]
     },
     "execution_count": 75,
     "metadata": {},
     "output_type": "execute_result"
    }
   ],
   "source": [
    "b = a.reshape(2,10)\n",
    "b"
   ]
  },
  {
   "cell_type": "code",
   "execution_count": 76,
   "id": "a213e6d0-3fd9-4384-a428-57771bb024be",
   "metadata": {},
   "outputs": [
    {
     "data": {
      "text/plain": [
       "array([0, 1, 2, 3, 4])"
      ]
     },
     "execution_count": 76,
     "metadata": {},
     "output_type": "execute_result"
    }
   ],
   "source": [
    "c = np.arange(5)\n",
    "c"
   ]
  },
  {
   "cell_type": "code",
   "execution_count": 77,
   "id": "3e06465b-448f-4613-8a33-74e5d791ff04",
   "metadata": {},
   "outputs": [
    {
     "data": {
      "text/plain": [
       "array([[0],\n",
       "       [1],\n",
       "       [2],\n",
       "       [3],\n",
       "       [4]])"
      ]
     },
     "execution_count": 77,
     "metadata": {},
     "output_type": "execute_result"
    }
   ],
   "source": [
    "c.reshape(-1,1)"
   ]
  },
  {
   "cell_type": "code",
   "execution_count": 78,
   "id": "5c898c57-d927-415d-b112-c3e0870ff483",
   "metadata": {},
   "outputs": [
    {
     "name": "stdout",
     "output_type": "stream",
     "text": [
      "4.39 ms ± 79.5 µs per loop (mean ± std. dev. of 7 runs, 100 loops each)\n"
     ]
    }
   ],
   "source": [
    "%%timeit\n",
    "a = np.arange(10000)\n",
    "for i, v in enumerate(a):\n",
    "    a[i] = a[i] - 1"
   ]
  },
  {
   "cell_type": "code",
   "execution_count": 79,
   "id": "35da9cb0-4850-49f2-af12-374d38225435",
   "metadata": {},
   "outputs": [
    {
     "name": "stdout",
     "output_type": "stream",
     "text": [
      "31.7 µs ± 275 ns per loop (mean ± std. dev. of 7 runs, 10,000 loops each)\n"
     ]
    }
   ],
   "source": [
    "%%timeit\n",
    "a = np.arange(10000)\n",
    "a - a - 1"
   ]
  },
  {
   "cell_type": "code",
   "execution_count": 80,
   "id": "14949335-fb08-47f7-9571-d65355e1c6d3",
   "metadata": {},
   "outputs": [
    {
     "name": "stdout",
     "output_type": "stream",
     "text": [
      "31.8 µs ± 453 ns per loop (mean ± std. dev. of 7 runs, 10,000 loops each)\n"
     ]
    }
   ],
   "source": [
    "%%timeit\n",
    "a = np.arange(10000)\n",
    "a - np.subtract(a,1)"
   ]
  },
  {
   "cell_type": "code",
   "execution_count": 81,
   "id": "8de2d5d3-f6ec-4f0c-92d3-25ea0f38169c",
   "metadata": {},
   "outputs": [
    {
     "data": {
      "text/plain": [
       "array([2, 3, 4, 5, 6])"
      ]
     },
     "execution_count": 81,
     "metadata": {},
     "output_type": "execute_result"
    }
   ],
   "source": [
    "a = np.array([0,1,2,3,4])\n",
    "b = a + 2\n",
    "b"
   ]
  },
  {
   "cell_type": "code",
   "execution_count": null,
   "id": "0ba02e04-c947-4954-a049-dc13f74a23be",
   "metadata": {},
   "outputs": [],
   "source": [
    "a = np.ones((2,4))\n",
    "print(a)\n",
    "a.shape"
   ]
  },
  {
   "cell_type": "code",
   "execution_count": null,
   "id": "8091ba2f-7739-4056-b311-4bb91805a4f1",
   "metadata": {},
   "outputs": [],
   "source": [
    "b = np.random.randint(1,10,4)\n",
    "print(b)\n",
    "b.shape"
   ]
  },
  {
   "cell_type": "code",
   "execution_count": null,
   "id": "14d041d6-25df-4070-a52f-2557c983f9a5",
   "metadata": {},
   "outputs": [],
   "source": [
    "c = a + b\n",
    "print(c)\n",
    "c.shape"
   ]
  },
  {
   "cell_type": "markdown",
   "id": "5e12944a-88a0-43e7-b6f8-a20e5c80a7d9",
   "metadata": {},
   "source": [
    "## Classification ML Practice"
   ]
  },
  {
   "cell_type": "code",
   "execution_count": 82,
   "id": "0f720843-e6fe-4f52-b3d8-9766795c2a1a",
   "metadata": {},
   "outputs": [
    {
     "data": {
      "text/plain": [
       "sklearn.utils._bunch.Bunch"
      ]
     },
     "execution_count": 82,
     "metadata": {},
     "output_type": "execute_result"
    }
   ],
   "source": [
    "from sklearn import datasets\n",
    "iris = datasets.load_iris()\n",
    "type(iris)"
   ]
  },
  {
   "cell_type": "code",
   "execution_count": 83,
   "id": "93db5d36-3e57-4f91-8ae8-29a9fe9521de",
   "metadata": {},
   "outputs": [
    {
     "data": {
      "text/plain": [
       "dict_keys(['data', 'target', 'frame', 'target_names', 'DESCR', 'feature_names', 'filename', 'data_module'])"
      ]
     },
     "execution_count": 83,
     "metadata": {},
     "output_type": "execute_result"
    }
   ],
   "source": [
    "iris.keys()"
   ]
  },
  {
   "cell_type": "code",
   "execution_count": 84,
   "id": "21350d3f-421f-4aec-b394-97bb543ec3a1",
   "metadata": {},
   "outputs": [
    {
     "name": "stdout",
     "output_type": "stream",
     "text": [
      "['setosa' 'versicolor' 'virginica']\n"
     ]
    }
   ],
   "source": [
    "print(iris.target_names)"
   ]
  },
  {
   "cell_type": "code",
   "execution_count": 85,
   "id": "1ddd0200-2395-4112-aa91-b9be93a77ba7",
   "metadata": {},
   "outputs": [
    {
     "name": "stdout",
     "output_type": "stream",
     "text": [
      ".. _iris_dataset:\n",
      "\n",
      "Iris plants dataset\n",
      "--------------------\n",
      "\n",
      "**Data Set Characteristics:**\n",
      "\n",
      "    :Number of Instances: 150 (50 in each of three classes)\n",
      "    :Number of Attributes: 4 numeric, predictive attributes and the class\n",
      "    :Attribute Information:\n",
      "        - sepal length in cm\n",
      "        - sepal width in cm\n",
      "        - petal length in cm\n",
      "        - petal width in cm\n",
      "        - class:\n",
      "                - Iris-Setosa\n",
      "                - Iris-Versicolour\n",
      "                - Iris-Virginica\n",
      "                \n",
      "\n"
     ]
    }
   ],
   "source": [
    "print(iris.DESCR[:500])"
   ]
  },
  {
   "cell_type": "code",
   "execution_count": 86,
   "id": "bc05f92c-a9c2-4c56-ae6a-5ad1056820eb",
   "metadata": {},
   "outputs": [
    {
     "data": {
      "text/plain": [
       "array([[5.1, 3.5, 1.4, 0.2],\n",
       "       [4.9, 3. , 1.4, 0.2],\n",
       "       [4.7, 3.2, 1.3, 0.2],\n",
       "       [4.6, 3.1, 1.5, 0.2],\n",
       "       [5. , 3.6, 1.4, 0.2],\n",
       "       [5.4, 3.9, 1.7, 0.4],\n",
       "       [4.6, 3.4, 1.4, 0.3],\n",
       "       [5. , 3.4, 1.5, 0.2],\n",
       "       [4.4, 2.9, 1.4, 0.2],\n",
       "       [4.9, 3.1, 1.5, 0.1],\n",
       "       [5.4, 3.7, 1.5, 0.2]])"
      ]
     },
     "execution_count": 86,
     "metadata": {},
     "output_type": "execute_result"
    }
   ],
   "source": [
    "iris.data[0:11]"
   ]
  },
  {
   "cell_type": "code",
   "execution_count": 87,
   "id": "d0607bba-68ec-438b-9050-bc441aae9542",
   "metadata": {},
   "outputs": [
    {
     "data": {
      "text/plain": [
       "(150, 4)"
      ]
     },
     "execution_count": 87,
     "metadata": {},
     "output_type": "execute_result"
    }
   ],
   "source": [
    "iris.data.shape"
   ]
  },
  {
   "cell_type": "code",
   "execution_count": 88,
   "id": "527c655f-1f79-4b4e-a512-8d134007be2a",
   "metadata": {},
   "outputs": [
    {
     "data": {
      "text/plain": [
       "array([0, 0, 0, 0, 0, 0, 0, 0, 0, 0, 0, 0, 0, 0, 0, 0, 0, 0, 0, 0, 0, 0,\n",
       "       0, 0, 0, 0, 0, 0, 0, 0, 0, 0, 0, 0, 0, 0, 0, 0, 0, 0, 0, 0, 0, 0,\n",
       "       0, 0, 0, 0, 0, 0, 1, 1, 1, 1, 1, 1, 1, 1, 1, 1, 1, 1, 1, 1, 1, 1,\n",
       "       1, 1, 1, 1, 1, 1, 1, 1, 1, 1, 1, 1, 1, 1, 1, 1, 1, 1, 1, 1, 1, 1,\n",
       "       1, 1, 1, 1, 1, 1, 1, 1, 1, 1, 1, 1, 2, 2, 2, 2, 2, 2, 2, 2, 2, 2,\n",
       "       2, 2, 2, 2, 2, 2, 2, 2, 2, 2, 2, 2, 2, 2, 2, 2, 2, 2, 2, 2, 2, 2,\n",
       "       2, 2, 2, 2, 2, 2, 2, 2, 2, 2, 2, 2, 2, 2, 2, 2, 2, 2])"
      ]
     },
     "execution_count": 88,
     "metadata": {},
     "output_type": "execute_result"
    }
   ],
   "source": [
    "iris.target"
   ]
  },
  {
   "cell_type": "code",
   "execution_count": 89,
   "id": "6d46018f-550f-4303-94d7-4ea28851319c",
   "metadata": {},
   "outputs": [
    {
     "data": {
      "text/plain": [
       "array([50, 50, 50], dtype=int64)"
      ]
     },
     "execution_count": 89,
     "metadata": {},
     "output_type": "execute_result"
    }
   ],
   "source": [
    "import numpy as np\n",
    "np.bincount(iris.target)"
   ]
  },
  {
   "cell_type": "code",
   "execution_count": 90,
   "id": "5f68f3d5-7fa4-4f41-9453-6c893d73628d",
   "metadata": {},
   "outputs": [
    {
     "name": "stdout",
     "output_type": "stream",
     "text": [
      "type of data: <class 'numpy.ndarray'>\n",
      "type of target: <class 'numpy.ndarray'>\n"
     ]
    }
   ],
   "source": [
    "print('type of data: ' + str(type(iris.data)) + '\\ntype of target: ' + str(type(iris.target)))"
   ]
  },
  {
   "cell_type": "code",
   "execution_count": 91,
   "id": "adcbea40-a13d-4150-b1e7-721ebeb6e5a6",
   "metadata": {},
   "outputs": [
    {
     "name": "stdout",
     "output_type": "stream",
     "text": [
      "['sepal length (cm)', 'sepal width (cm)', 'petal length (cm)', 'petal width (cm)']\n"
     ]
    }
   ],
   "source": [
    "print(iris.feature_names)"
   ]
  },
  {
   "cell_type": "code",
   "execution_count": 92,
   "id": "d6218f58-520a-4a57-95db-16438093c56e",
   "metadata": {},
   "outputs": [
    {
     "name": "stdout",
     "output_type": "stream",
     "text": [
      "X_train_shape: (120, 4)\n",
      "X_test_shape: (30, 4)\n",
      "y_train_shape: (120,)\n",
      "y_test_shape: (30,)\n"
     ]
    }
   ],
   "source": [
    "from sklearn.model_selection import train_test_split\n",
    "X_train, X_test, y_train, y_test = train_test_split(iris.data, iris.target, random_state=100, test_size=0.2, stratify=iris.target)\n",
    "print('X_train_shape: ' + str(X_train.shape) + '\\nX_test_shape: ' + str(X_test.shape) + '\\ny_train_shape: ' + str(y_train.shape) + '\\ny_test_shape: ' + str(y_test.shape))"
   ]
  },
  {
   "cell_type": "code",
   "execution_count": 93,
   "id": "1518a633-f6f5-40b2-abf3-d6f30bcecaa2",
   "metadata": {},
   "outputs": [
    {
     "data": {
      "text/plain": [
       "array([40, 40, 40], dtype=int64)"
      ]
     },
     "execution_count": 93,
     "metadata": {},
     "output_type": "execute_result"
    }
   ],
   "source": [
    "np.bincount(y_train)"
   ]
  },
  {
   "cell_type": "code",
   "execution_count": 94,
   "id": "007a1445-83fa-46ad-aaa5-d21932ba8056",
   "metadata": {},
   "outputs": [],
   "source": [
    "import pandas as pd\n",
    "X_train_df = pd.DataFrame(X_train, columns=iris.feature_names)\n",
    "y_train_df = pd.DataFrame(y_train, columns=['class'])\n",
    "X_y_train_df = pd.concat([X_train_df, y_train_df], axis=1)"
   ]
  },
  {
   "cell_type": "code",
   "execution_count": 95,
   "id": "d4d9dde0-a31e-47b3-802c-b1714c7f8881",
   "metadata": {},
   "outputs": [
    {
     "data": {
      "text/plain": [
       "<seaborn.axisgrid.PairGrid at 0x26332197490>"
      ]
     },
     "execution_count": 95,
     "metadata": {},
     "output_type": "execute_result"
    },
    {
     "data": {
      "image/png": "[encoded data removed]",
      "text/plain": [
       "<Figure size 858.875x800 with 20 Axes>"
      ]
     },
     "metadata": {},
     "output_type": "display_data"
    }
   ],
   "source": [
    "import seaborn as sns\n",
    "sns.pairplot(X_y_train_df, hue = 'class', height = 2)"
   ]
  },
  {
   "cell_type": "code",
   "execution_count": 96,
   "id": "8f67f30a-6730-401f-a859-3320ac3106b0",
   "metadata": {},
   "outputs": [],
   "source": [
    "mean = X_train.mean(axis=0)\n",
    "std = X_train.std(axis=0)\n",
    "X_train_scaled = X_train - mean\n",
    "X_train_scaled /= std\n"
   ]
  },
  {
   "cell_type": "code",
   "execution_count": 97,
   "id": "a448e169-7bc8-40b4-8106-cb1654554e0b",
   "metadata": {},
   "outputs": [
    {
     "name": "stdout",
     "output_type": "stream",
     "text": [
      "[5.8775     3.07916667 3.77166667 1.21083333]\n",
      "[0.8314107  0.42581213 1.7773193  0.76754976]\n"
     ]
    }
   ],
   "source": [
    "print(mean)\n",
    "print(std)"
   ]
  },
  {
   "cell_type": "code",
   "execution_count": 98,
   "id": "7030dca0-d89d-411e-a4b4-1a1e127a4811",
   "metadata": {},
   "outputs": [
    {
     "data": {
      "text/plain": [
       "array([-4.21884749e-16,  1.20042865e-16, -3.88578059e-16, -7.04991621e-16])"
      ]
     },
     "execution_count": 98,
     "metadata": {},
     "output_type": "execute_result"
    }
   ],
   "source": [
    "X_train_scaled.mean(axis=0)"
   ]
  },
  {
   "cell_type": "code",
   "execution_count": 99,
   "id": "bdb83330-20d8-43c3-8d2a-c3b6a40d4c69",
   "metadata": {},
   "outputs": [
    {
     "data": {
      "text/plain": [
       "array([1., 1., 1., 1.])"
      ]
     },
     "execution_count": 99,
     "metadata": {},
     "output_type": "execute_result"
    }
   ],
   "source": [
    "X_train_scaled.std(axis=0)"
   ]
  },
  {
   "cell_type": "code",
   "execution_count": 100,
   "id": "1e17ff1c-fa47-44ad-af24-294d1a996770",
   "metadata": {},
   "outputs": [
    {
     "name": "stdout",
     "output_type": "stream",
     "text": [
      "[-0.20547406 -0.25637284 -0.03844742 -0.07491371]\n",
      "[0.94499306 1.07303169 0.94790626 0.94534006]\n"
     ]
    }
   ],
   "source": [
    "X_test_scaled = X_test - mean # scaling of test data set using mean of training data set\n",
    "X_test_scaled /= std \n",
    "print(X_test_scaled.mean(axis=0))\n",
    "print(X_test_scaled.std(axis=0))"
   ]
  },
  {
   "cell_type": "code",
   "execution_count": 101,
   "id": "4183b2f5-89db-42a9-bde2-f1528079aa20",
   "metadata": {},
   "outputs": [],
   "source": [
    "from sklearn.preprocessing import StandardScaler\n",
    "scaler = StandardScaler()"
   ]
  },
  {
   "cell_type": "code",
   "execution_count": 102,
   "id": "d757c361-b581-4c7e-a145-5773b3267785",
   "metadata": {},
   "outputs": [
    {
     "data": {
      "text/html": [
       "<style>#sk-container-id-1 {color: black;}#sk-container-id-1 pre{padding: 0;}#sk-container-id-1 div.sk-toggleable {background-color: white;}#sk-container-id-1 label.sk-toggleable__label {cursor: pointer;display: block;width: 100%;margin-bottom: 0;padding: 0.3em;box-sizing: border-box;text-align: center;}#sk-container-id-1 label.sk-toggleable__label-arrow:before {content: \"▸\";float: left;margin-right: 0.25em;color: #696969;}#sk-container-id-1 label.sk-toggleable__label-arrow:hover:before {color: black;}#sk-container-id-1 div.sk-estimator:hover label.sk-toggleable__label-arrow:before {color: black;}#sk-container-id-1 div.sk-toggleable__content {max-height: 0;max-width: 0;overflow: hidden;text-align: left;background-color: #f0f8ff;}#sk-container-id-1 div.sk-toggleable__content pre {margin: 0.2em;color: black;border-radius: 0.25em;background-color: #f0f8ff;}#sk-container-id-1 input.sk-toggleable__control:checked~div.sk-toggleable__content {max-height: 200px;max-width: 100%;overflow: auto;}#sk-container-id-1 input.sk-toggleable__control:checked~label.sk-toggleable__label-arrow:before {content: \"▾\";}#sk-container-id-1 div.sk-estimator input.sk-toggleable__control:checked~label.sk-toggleable__label {background-color: #d4ebff;}#sk-container-id-1 div.sk-label input.sk-toggleable__control:checked~label.sk-toggleable__label {background-color: #d4ebff;}#sk-container-id-1 input.sk-hidden--visually {border: 0;clip: rect(1px 1px 1px 1px);clip: rect(1px, 1px, 1px, 1px);height: 1px;margin: -1px;overflow: hidden;padding: 0;position: absolute;width: 1px;}#sk-container-id-1 div.sk-estimator {font-family: monospace;background-color: #f0f8ff;border: 1px dotted black;border-radius: 0.25em;box-sizing: border-box;margin-bottom: 0.5em;}#sk-container-id-1 div.sk-estimator:hover {background-color: #d4ebff;}#sk-container-id-1 div.sk-parallel-item::after {content: \"\";width: 100%;border-bottom: 1px solid gray;flex-grow: 1;}#sk-container-id-1 div.sk-label:hover label.sk-toggleable__label {background-color: #d4ebff;}#sk-container-id-1 div.sk-serial::before {content: \"\";position: absolute;border-left: 1px solid gray;box-sizing: border-box;top: 0;bottom: 0;left: 50%;z-index: 0;}#sk-container-id-1 div.sk-serial {display: flex;flex-direction: column;align-items: center;background-color: white;padding-right: 0.2em;padding-left: 0.2em;position: relative;}#sk-container-id-1 div.sk-item {position: relative;z-index: 1;}#sk-container-id-1 div.sk-parallel {display: flex;align-items: stretch;justify-content: center;background-color: white;position: relative;}#sk-container-id-1 div.sk-item::before, #sk-container-id-1 div.sk-parallel-item::before {content: \"\";position: absolute;border-left: 1px solid gray;box-sizing: border-box;top: 0;bottom: 0;left: 50%;z-index: -1;}#sk-container-id-1 div.sk-parallel-item {display: flex;flex-direction: column;z-index: 1;position: relative;background-color: white;}#sk-container-id-1 div.sk-parallel-item:first-child::after {align-self: flex-end;width: 50%;}#sk-container-id-1 div.sk-parallel-item:last-child::after {align-self: flex-start;width: 50%;}#sk-container-id-1 div.sk-parallel-item:only-child::after {width: 0;}#sk-container-id-1 div.sk-dashed-wrapped {border: 1px dashed gray;margin: 0 0.4em 0.5em 0.4em;box-sizing: border-box;padding-bottom: 0.4em;background-color: white;}#sk-container-id-1 div.sk-label label {font-family: monospace;font-weight: bold;display: inline-block;line-height: 1.2em;}#sk-container-id-1 div.sk-label-container {text-align: center;}#sk-container-id-1 div.sk-container {/* jupyter's `normalize.less` sets `[hidden] { display: none; }` but bootstrap.min.css set `[hidden] { display: none !important; }` so we also need the `!important` here to be able to override the default hidden behavior on the sphinx rendered scikit-learn.org. See: https://github.com/scikit-learn/scikit-learn/issues/21755 */display: inline-block !important;position: relative;}#sk-container-id-1 div.sk-text-repr-fallback {display: none;}</style><div id=\"sk-container-id-1\" class=\"sk-top-container\"><div class=\"sk-text-repr-fallback\"><pre>StandardScaler()</pre><b>In a Jupyter environment, please rerun this cell to show the HTML representation or trust the notebook. <br />On GitHub, the HTML representation is unable to render, please try loading this page with nbviewer.org.</b></div><div class=\"sk-container\" hidden><div class=\"sk-item\"><div class=\"sk-estimator sk-toggleable\"><input class=\"sk-toggleable__control sk-hidden--visually\" id=\"sk-estimator-id-1\" type=\"checkbox\" checked><label for=\"sk-estimator-id-1\" class=\"sk-toggleable__label sk-toggleable__label-arrow\">StandardScaler</label><div class=\"sk-toggleable__content\"><pre>StandardScaler()</pre></div></div></div></div></div>"
      ],
      "text/plain": [
       "StandardScaler()"
      ]
     },
     "execution_count": 102,
     "metadata": {},
     "output_type": "execute_result"
    }
   ],
   "source": [
    "scaler.fit(X_train)"
   ]
  },
  {
   "cell_type": "code",
   "execution_count": 103,
   "id": "d3b2d16d-855a-4079-919e-c37bce68f722",
   "metadata": {},
   "outputs": [],
   "source": [
    "X_train_scaled = scaler.transform(X_train)\n",
    "X_test_scaled = scaler.transform(X_test)"
   ]
  },
  {
   "cell_type": "code",
   "execution_count": 104,
   "id": "f8591c78-5e82-42db-a98a-5269dc06d341",
   "metadata": {},
   "outputs": [
    {
     "name": "stdout",
     "output_type": "stream",
     "text": [
      "[-0.20547406 -0.25637284 -0.03844742 -0.07491371]\n",
      "[0.94499306 1.07303169 0.94790626 0.94534006]\n"
     ]
    }
   ],
   "source": [
    "print(X_test_scaled.mean(axis=0))\n",
    "print(X_test_scaled.std(axis=0))"
   ]
  },
  {
   "cell_type": "code",
   "execution_count": 105,
   "id": "ca1646fb-8ea4-4cfc-b204-fb08a42be045",
   "metadata": {},
   "outputs": [],
   "source": [
    "np.savez('ML-Practice/iris_train_scaled', X = X_train_scaled, y = y_train)\n",
    "np.savez('ML-Practice/iris_test_scaled', X = X_test_scaled, y = y_test)"
   ]
  },
  {
   "cell_type": "code",
   "execution_count": 106,
   "id": "150a9705-7680-479d-a81f-ba48b74470ca",
   "metadata": {},
   "outputs": [],
   "source": [
    "from sklearn.neighbors import KNeighborsClassifier as kNN\n",
    "knn = kNN(n_neighbors=3)"
   ]
  },
  {
   "cell_type": "code",
   "execution_count": 107,
   "id": "cee58926-7886-4061-b00e-1b729a696de3",
   "metadata": {},
   "outputs": [
    {
     "data": {
      "text/html": [
       "<style>#sk-container-id-2 {color: black;}#sk-container-id-2 pre{padding: 0;}#sk-container-id-2 div.sk-toggleable {background-color: white;}#sk-container-id-2 label.sk-toggleable__label {cursor: pointer;display: block;width: 100%;margin-bottom: 0;padding: 0.3em;box-sizing: border-box;text-align: center;}#sk-container-id-2 label.sk-toggleable__label-arrow:before {content: \"▸\";float: left;margin-right: 0.25em;color: #696969;}#sk-container-id-2 label.sk-toggleable__label-arrow:hover:before {color: black;}#sk-container-id-2 div.sk-estimator:hover label.sk-toggleable__label-arrow:before {color: black;}#sk-container-id-2 div.sk-toggleable__content {max-height: 0;max-width: 0;overflow: hidden;text-align: left;background-color: #f0f8ff;}#sk-container-id-2 div.sk-toggleable__content pre {margin: 0.2em;color: black;border-radius: 0.25em;background-color: #f0f8ff;}#sk-container-id-2 input.sk-toggleable__control:checked~div.sk-toggleable__content {max-height: 200px;max-width: 100%;overflow: auto;}#sk-container-id-2 input.sk-toggleable__control:checked~label.sk-toggleable__label-arrow:before {content: \"▾\";}#sk-container-id-2 div.sk-estimator input.sk-toggleable__control:checked~label.sk-toggleable__label {background-color: #d4ebff;}#sk-container-id-2 div.sk-label input.sk-toggleable__control:checked~label.sk-toggleable__label {background-color: #d4ebff;}#sk-container-id-2 input.sk-hidden--visually {border: 0;clip: rect(1px 1px 1px 1px);clip: rect(1px, 1px, 1px, 1px);height: 1px;margin: -1px;overflow: hidden;padding: 0;position: absolute;width: 1px;}#sk-container-id-2 div.sk-estimator {font-family: monospace;background-color: #f0f8ff;border: 1px dotted black;border-radius: 0.25em;box-sizing: border-box;margin-bottom: 0.5em;}#sk-container-id-2 div.sk-estimator:hover {background-color: #d4ebff;}#sk-container-id-2 div.sk-parallel-item::after {content: \"\";width: 100%;border-bottom: 1px solid gray;flex-grow: 1;}#sk-container-id-2 div.sk-label:hover label.sk-toggleable__label {background-color: #d4ebff;}#sk-container-id-2 div.sk-serial::before {content: \"\";position: absolute;border-left: 1px solid gray;box-sizing: border-box;top: 0;bottom: 0;left: 50%;z-index: 0;}#sk-container-id-2 div.sk-serial {display: flex;flex-direction: column;align-items: center;background-color: white;padding-right: 0.2em;padding-left: 0.2em;position: relative;}#sk-container-id-2 div.sk-item {position: relative;z-index: 1;}#sk-container-id-2 div.sk-parallel {display: flex;align-items: stretch;justify-content: center;background-color: white;position: relative;}#sk-container-id-2 div.sk-item::before, #sk-container-id-2 div.sk-parallel-item::before {content: \"\";position: absolute;border-left: 1px solid gray;box-sizing: border-box;top: 0;bottom: 0;left: 50%;z-index: -1;}#sk-container-id-2 div.sk-parallel-item {display: flex;flex-direction: column;z-index: 1;position: relative;background-color: white;}#sk-container-id-2 div.sk-parallel-item:first-child::after {align-self: flex-end;width: 50%;}#sk-container-id-2 div.sk-parallel-item:last-child::after {align-self: flex-start;width: 50%;}#sk-container-id-2 div.sk-parallel-item:only-child::after {width: 0;}#sk-container-id-2 div.sk-dashed-wrapped {border: 1px dashed gray;margin: 0 0.4em 0.5em 0.4em;box-sizing: border-box;padding-bottom: 0.4em;background-color: white;}#sk-container-id-2 div.sk-label label {font-family: monospace;font-weight: bold;display: inline-block;line-height: 1.2em;}#sk-container-id-2 div.sk-label-container {text-align: center;}#sk-container-id-2 div.sk-container {/* jupyter's `normalize.less` sets `[hidden] { display: none; }` but bootstrap.min.css set `[hidden] { display: none !important; }` so we also need the `!important` here to be able to override the default hidden behavior on the sphinx rendered scikit-learn.org. See: https://github.com/scikit-learn/scikit-learn/issues/21755 */display: inline-block !important;position: relative;}#sk-container-id-2 div.sk-text-repr-fallback {display: none;}</style><div id=\"sk-container-id-2\" class=\"sk-top-container\"><div class=\"sk-text-repr-fallback\"><pre>KNeighborsClassifier(n_neighbors=3)</pre><b>In a Jupyter environment, please rerun this cell to show the HTML representation or trust the notebook. <br />On GitHub, the HTML representation is unable to render, please try loading this page with nbviewer.org.</b></div><div class=\"sk-container\" hidden><div class=\"sk-item\"><div class=\"sk-estimator sk-toggleable\"><input class=\"sk-toggleable__control sk-hidden--visually\" id=\"sk-estimator-id-2\" type=\"checkbox\" checked><label for=\"sk-estimator-id-2\" class=\"sk-toggleable__label sk-toggleable__label-arrow\">KNeighborsClassifier</label><div class=\"sk-toggleable__content\"><pre>KNeighborsClassifier(n_neighbors=3)</pre></div></div></div></div></div>"
      ],
      "text/plain": [
       "KNeighborsClassifier(n_neighbors=3)"
      ]
     },
     "execution_count": 107,
     "metadata": {},
     "output_type": "execute_result"
    }
   ],
   "source": [
    "knn.fit(X_train_scaled, y_train)"
   ]
  },
  {
   "cell_type": "code",
   "execution_count": 108,
   "id": "561753f0-c220-4212-9dc6-c9b3ff46d4e1",
   "metadata": {},
   "outputs": [],
   "source": [
    "x_test = np.array([5.5, 2, 1.1, 0.6]).reshape(1,4)"
   ]
  },
  {
   "cell_type": "code",
   "execution_count": 109,
   "id": "63cd67d3-e7e0-4f6a-bc0a-6081c09d06d2",
   "metadata": {},
   "outputs": [
    {
     "data": {
      "text/plain": [
       "(1, 4)"
      ]
     },
     "execution_count": 109,
     "metadata": {},
     "output_type": "execute_result"
    }
   ],
   "source": [
    "x_test.shape"
   ]
  },
  {
   "cell_type": "code",
   "execution_count": 111,
   "id": "66386265-056c-4fab-8cd0-dd0719327d43",
   "metadata": {},
   "outputs": [
    {
     "data": {
      "text/plain": [
       "array([[-0.45404756, -2.53437275, -1.50320017, -0.79582245]])"
      ]
     },
     "execution_count": 111,
     "metadata": {},
     "output_type": "execute_result"
    }
   ],
   "source": [
    "x_test_scaled = scaler.transform(x_test)\n",
    "x_test_scaled"
   ]
  },
  {
   "cell_type": "code",
   "execution_count": 112,
   "id": "655bdc5f-16b5-41f6-bd9d-77a5511d0a75",
   "metadata": {},
   "outputs": [
    {
     "name": "stdout",
     "output_type": "stream",
     "text": [
      "knn predicts: ['versicolor']\n"
     ]
    }
   ],
   "source": [
    "y_test_prediction = knn.predict(x_test_scaled)\n",
    "print('knn predicts: ' + str(iris.target_names[y_test_prediction]))\n"
   ]
  },
  {
   "cell_type": "code",
   "execution_count": 113,
   "id": "c72aa2cd-3ef1-4946-a430-4d2bc0cdbdd9",
   "metadata": {},
   "outputs": [
    {
     "name": "stdout",
     "output_type": "stream",
     "text": [
      "knn predicts: ['versicolor' 'versicolor' 'versicolor' 'virginica' 'setosa' 'virginica'\n",
      " 'versicolor' 'setosa' 'versicolor' 'versicolor' 'versicolor' 'virginica'\n",
      " 'virginica' 'setosa' 'virginica' 'setosa' 'setosa' 'versicolor' 'setosa'\n",
      " 'virginica' 'setosa' 'versicolor' 'versicolor' 'setosa' 'versicolor'\n",
      " 'setosa' 'setosa' 'versicolor' 'virginica' 'versicolor']\n"
     ]
    }
   ],
   "source": [
    "y_test_predictions = knn.predict(X_test_scaled)\n",
    "print('knn predicts: ' + str(iris.target_names[y_test_predictions]))"
   ]
  },
  {
   "cell_type": "code",
   "execution_count": 114,
   "id": "8c4c6124-d1b6-478b-b4c9-2c96f51210db",
   "metadata": {},
   "outputs": [
    {
     "data": {
      "text/plain": [
       "array([False, False,  True, False, False, False, False, False, False,\n",
       "       False, False, False, False, False, False, False, False, False,\n",
       "       False, False, False, False, False, False,  True, False, False,\n",
       "        True, False, False])"
      ]
     },
     "execution_count": 114,
     "metadata": {},
     "output_type": "execute_result"
    }
   ],
   "source": [
    "errors = (y_test_predictions != y_test)\n",
    "errors"
   ]
  },
  {
   "cell_type": "code",
   "execution_count": 115,
   "id": "bab509b9-34e9-4281-aff8-5a89d162e4a5",
   "metadata": {},
   "outputs": [
    {
     "name": "stdout",
     "output_type": "stream",
     "text": [
      "The error rate estimate is: 0.10\n",
      "The accuracy is: 0.90\n"
     ]
    }
   ],
   "source": [
    "error_est = sum(errors)/errors.size\n",
    "print('The error rate estimate is: {:.2f}'.format(error_est) + '\\n' 'The accuracy is: {:.2f}'.format(1-error_est))"
   ]
  },
  {
   "cell_type": "code",
   "execution_count": 116,
   "id": "735fd5cb-a291-4da9-af0d-128be582271d",
   "metadata": {},
   "outputs": [
    {
     "name": "stdout",
     "output_type": "stream",
     "text": [
      "The accuracy is 0.90\n"
     ]
    }
   ],
   "source": [
    "from sklearn.metrics import accuracy_score\n",
    "print('The accuracy is {:.2f}'.format(accuracy_score(y_test, y_test_predictions)))"
   ]
  },
  {
   "cell_type": "code",
   "execution_count": 119,
   "id": "23b5983e-37c4-4573-aa83-3e9136f0d265",
   "metadata": {},
   "outputs": [
    {
     "name": "stdout",
     "output_type": "stream",
     "text": [
      "The accurracy is 0.90\n"
     ]
    }
   ],
   "source": [
    "print('The accurracy is {:.2f}'.format(knn.score(X_test_scaled, y_test)))"
   ]
  },
  {
   "cell_type": "code",
   "execution_count": null,
   "id": "8dc6d1ff-e1df-43ab-9386-bc1889d1fc31",
   "metadata": {},
   "outputs": [],
   "source": []
  }
 ],
 "metadata": {
  "kernelspec": {
   "display_name": "Python 3 (ipykernel)",
   "language": "python",
   "name": "python3"
  },
  "language_info": {
   "codemirror_mode": {
    "name": "ipython",
    "version": 3
   },
   "file_extension": ".py",
   "mimetype": "text/x-python",
   "name": "python",
   "nbconvert_exporter": "python",
   "pygments_lexer": "ipython3",
   "version": "3.10.8"
  }
 },
 "nbformat": 4,
 "nbformat_minor": 5
}
